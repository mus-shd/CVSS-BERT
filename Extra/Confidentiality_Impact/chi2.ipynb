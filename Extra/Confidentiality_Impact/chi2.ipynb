{
 "cells": [
  {
   "cell_type": "code",
   "execution_count": 2,
   "metadata": {},
   "outputs": [
    {
     "name": "stdout",
     "output_type": "stream",
     "text": [
      "(22963, 2)\n",
      "(22963, 2)\n",
      "(22963, 16)\n",
      "(22963, 16)\n",
      "HIGH    0.589949\n",
      "NONE    0.212516\n",
      "LOW     0.197535\n",
      "Name: cvssV3_confidentialityImpact, dtype: float64\n",
      "HIGH    0.588599\n",
      "NONE    0.215477\n",
      "LOW     0.195924\n",
      "Name: cvssV3_confidentialityImpact, dtype: float64\n",
      "<class 'pandas.core.frame.DataFrame'>\n",
      "RangeIndex: 22963 entries, 0 to 22962\n",
      "Data columns (total 2 columns):\n",
      " #   Column       Non-Null Count  Dtype \n",
      "---  ------       --------------  ----- \n",
      " 0   CVE_ID       22963 non-null  object\n",
      " 1   Description  22963 non-null  object\n",
      "dtypes: object(2)\n",
      "memory usage: 358.9+ KB\n",
      "None\n",
      "<class 'pandas.core.frame.DataFrame'>\n",
      "RangeIndex: 22963 entries, 0 to 22962\n",
      "Data columns (total 16 columns):\n",
      " #   Column                        Non-Null Count  Dtype  \n",
      "---  ------                        --------------  -----  \n",
      " 0   cvssV3_vectorString           22963 non-null  object \n",
      " 1   cvssV3_attackVector           22963 non-null  object \n",
      " 2   cvssV3_attackComplexity       22963 non-null  object \n",
      " 3   cvssV3_privilegesRequired     22963 non-null  object \n",
      " 4   cvssV3_userInteraction        22963 non-null  object \n",
      " 5   cvssV3_scope                  22963 non-null  object \n",
      " 6   cvssV3_confidentialityImpact  22963 non-null  object \n",
      " 7   cvssV3_integrityImpact        22963 non-null  object \n",
      " 8   cvssV3_availabilityImpact     22963 non-null  object \n",
      " 9   cvssV3_baseScore              22963 non-null  float64\n",
      " 10  cvssV3_baseSeverity           22963 non-null  object \n",
      " 11  V3_exploitabilityScore        22963 non-null  float64\n",
      " 12  V3_impactScore                22963 non-null  float64\n",
      " 13  nb_CWE                        22963 non-null  int64  \n",
      " 14  CWE1                          22963 non-null  object \n",
      " 15  CWE2                          22963 non-null  object \n",
      "dtypes: float64(3), int64(1), object(12)\n",
      "memory usage: 2.8+ MB\n",
      "None\n"
     ]
    }
   ],
   "source": [
    "import pandas as pd\n",
    "import numpy as np\n",
    "\n",
    "X_train = pd.read_csv('../../data/cve_2018-2020_X_train.csv')\n",
    "y_train = pd.read_csv('../../data/cve_2018-2020_y_train.csv')\n",
    "\n",
    "X_test = pd.read_csv('../../data/cve_2018-2020_X_test.csv')\n",
    "y_test = pd.read_csv('../../data/cve_2018-2020_y_test.csv')\n",
    "\n",
    "print(X_train.shape)\n",
    "print(X_test.shape)\n",
    "print(y_train.shape)\n",
    "print(y_test.shape)\n",
    "\n",
    "print(y_train['cvssV3_confidentialityImpact'].value_counts(dropna=False) / y_train.shape[0])\n",
    "print(y_test['cvssV3_confidentialityImpact'].value_counts(dropna=False) / y_test.shape[0])\n",
    "print(X_train.info())\n",
    "print(y_train.info())"
   ]
  },
  {
   "cell_type": "code",
   "execution_count": 3,
   "metadata": {},
   "outputs": [
    {
     "name": "stdout",
     "output_type": "stream",
     "text": [
      "['HIGH' 'LOW' 'NONE']\n",
      "3\n",
      "0    HIGH\n",
      "1    HIGH\n",
      "2    HIGH\n",
      "3     LOW\n",
      "4    NONE\n",
      "5    NONE\n",
      "6    NONE\n",
      "7    HIGH\n",
      "8    HIGH\n",
      "9    HIGH\n",
      "Name: cvssV3_confidentialityImpact, dtype: object [0 0 0 1 2 2 2 0 0 0]\n",
      "22963 22963 22963 22963\n"
     ]
    }
   ],
   "source": [
    "file_name = 'confidentiality_impact'\n",
    "label_column_name = \"cvssV3_confidentialityImpact\"\n",
    "train_labels = y_train.loc[:, label_column_name]\n",
    "test_labels = y_test.loc[:, label_column_name]\n",
    "\n",
    "\n",
    "from sklearn.preprocessing import LabelEncoder\n",
    "import pickle\n",
    "\n",
    "le = LabelEncoder()\n",
    "le.fit(train_labels)\n",
    "print(le.classes_)\n",
    "CLASSES = le.classes_\n",
    "\n",
    "with open(file_name+\"_label.txt\", \"wb\") as f:\n",
    "    pickle.dump(le.classes_, f)\n",
    "\n",
    "NUM_CLASSES = len(le.classes_)\n",
    "print(NUM_CLASSES)\n",
    "\n",
    "encoded_train_labels = le.transform(train_labels)\n",
    "encoded_test_labels = le.transform(test_labels)\n",
    "\n",
    "print(train_labels[:10], encoded_train_labels[:10])\n",
    "print(len(X_train), len(train_labels), len(X_test), len(test_labels))"
   ]
  },
  {
   "cell_type": "code",
   "execution_count": null,
   "metadata": {},
   "outputs": [],
   "source": [
    "import pickle\n",
    "\n",
    "tokens_dict = {}\n",
    "\n",
    "#CLASSES = []\n",
    "\n",
    "for label in CLASSES:\n",
    "    with open( label + \"_\" + file_name + \"_unigrams.txt\", \"rb\") as f:\n",
    "        temp_list = pickle.load(f)\n",
    "        temp_list = list(set(temp_list))\n",
    "        "
   ]
  }
 ],
 "metadata": {
  "kernelspec": {
   "display_name": "Python 3",
   "language": "python",
   "name": "python3"
  },
  "language_info": {
   "codemirror_mode": {
    "name": "ipython",
    "version": 3
   },
   "file_extension": ".py",
   "mimetype": "text/x-python",
   "name": "python",
   "nbconvert_exporter": "python",
   "pygments_lexer": "ipython3",
   "version": "3.8.10"
  }
 },
 "nbformat": 4,
 "nbformat_minor": 4
}
