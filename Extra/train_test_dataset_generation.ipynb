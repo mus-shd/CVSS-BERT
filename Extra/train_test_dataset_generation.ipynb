{
 "cells": [
  {
   "cell_type": "code",
   "execution_count": 13,
   "metadata": {},
   "outputs": [
    {
     "name": "stdout",
     "output_type": "stream",
     "text": [
      "(45926, 22)\n",
      "<class 'pandas.core.frame.DataFrame'>\n",
      "RangeIndex: 45926 entries, 0 to 45925\n",
      "Data columns (total 22 columns):\n",
      " #   Column                        Non-Null Count  Dtype  \n",
      "---  ------                        --------------  -----  \n",
      " 0   publishedDate                 45926 non-null  object \n",
      " 1   lastModifiedDate              45926 non-null  object \n",
      " 2   CVE_ID                        45926 non-null  object \n",
      " 3   cvssV3_version                45926 non-null  float64\n",
      " 4   cvssV3_vectorString           45926 non-null  object \n",
      " 5   cvssV3_attackVector           45926 non-null  object \n",
      " 6   cvssV3_attackComplexity       45926 non-null  object \n",
      " 7   cvssV3_privilegesRequired     45926 non-null  object \n",
      " 8   cvssV3_userInteraction        45926 non-null  object \n",
      " 9   cvssV3_scope                  45926 non-null  object \n",
      " 10  cvssV3_confidentialityImpact  45926 non-null  object \n",
      " 11  cvssV3_integrityImpact        45926 non-null  object \n",
      " 12  cvssV3_availabilityImpact     45926 non-null  object \n",
      " 13  cvssV3_baseScore              45926 non-null  float64\n",
      " 14  cvssV3_baseSeverity           45926 non-null  object \n",
      " 15  V3_exploitabilityScore        45926 non-null  float64\n",
      " 16  V3_impactScore                45926 non-null  float64\n",
      " 17  nb_CWE                        45926 non-null  int64  \n",
      " 18  CWE1                          45926 non-null  object \n",
      " 19  CWE2                          45926 non-null  object \n",
      " 20  Description                   45926 non-null  object \n",
      " 21  Product                       1075 non-null   object \n",
      "dtypes: float64(4), int64(1), object(17)\n",
      "memory usage: 7.7+ MB\n"
     ]
    }
   ],
   "source": [
    "import pandas as pd\n",
    "import numpy as np\n",
    "\n",
    "data = pd.read_csv('data/cve_2018-2020_complete_dataset.csv')\n",
    "\n",
    "print(data.shape)\n",
    "data.info()"
   ]
  },
  {
   "cell_type": "code",
   "execution_count": 14,
   "metadata": {},
   "outputs": [
    {
     "name": "stdout",
     "output_type": "stream",
     "text": [
      "cvssV3_attackVector\n",
      "NETWORK             34090\n",
      "LOCAL               10093\n",
      "ADJACENT_NETWORK     1150\n",
      "PHYSICAL              593\n",
      "Name: cvssV3_attackVector, dtype: int64\n",
      "cvssV3_attackComplexity\n",
      "LOW     42907\n",
      "HIGH     3019\n",
      "Name: cvssV3_attackComplexity, dtype: int64\n",
      "cvssV3_privilegesRequired\n",
      "NONE    29424\n",
      "LOW     12980\n",
      "HIGH     3522\n",
      "Name: cvssV3_privilegesRequired, dtype: int64\n",
      "cvssV3_userInteraction\n",
      "NONE        30039\n",
      "REQUIRED    15887\n",
      "Name: cvssV3_userInteraction, dtype: int64\n",
      "cvssV3_scope\n",
      "UNCHANGED    38055\n",
      "CHANGED       7871\n",
      "Name: cvssV3_scope, dtype: int64\n",
      "cvssV3_confidentialityImpact\n",
      "HIGH    27063\n",
      "NONE     9828\n",
      "LOW      9035\n",
      "Name: cvssV3_confidentialityImpact, dtype: int64\n",
      "cvssV3_integrityImpact\n",
      "HIGH    23517\n",
      "NONE    14171\n",
      "LOW      8238\n",
      "Name: cvssV3_integrityImpact, dtype: int64\n",
      "cvssV3_availabilityImpact\n",
      "HIGH    26141\n",
      "NONE    18641\n",
      "LOW      1144\n",
      "Name: cvssV3_availabilityImpact, dtype: int64\n",
      "cvssV3_baseSeverity\n",
      "HIGH        19939\n",
      "MEDIUM      18459\n",
      "CRITICAL     6735\n",
      "LOW           793\n",
      "Name: cvssV3_baseSeverity, dtype: int64\n"
     ]
    }
   ],
   "source": [
    "for col_name in list(data.columns.values[5:13]):\n",
    "    print(col_name)\n",
    "    print( data[col_name].value_counts(dropna=False) )\n",
    "    \n",
    "print('cvssV3_baseSeverity')\n",
    "print( data['cvssV3_baseSeverity'].value_counts(dropna=False) )"
   ]
  },
  {
   "cell_type": "code",
   "execution_count": 15,
   "metadata": {},
   "outputs": [
    {
     "name": "stdout",
     "output_type": "stream",
     "text": [
      "(670,)\n",
      "10.0\n",
      "5%: 14.0 10%: 18.0 25%: 25.0 50%: 36.0  75%: 53.0  90%: 86.0  95%: 106.0\n"
     ]
    }
   ],
   "source": [
    "pd.set_option('display.max_colwidth', None)\n",
    "print(data.loc[data['Description'].str.split().apply(len) < 10]['Description'].shape)\n",
    "desc_len = data['Description'].str.split().apply(len)\n",
    "\n",
    "\n",
    "def ecdf(data):\n",
    "    \"\"\" Compute ECDF \"\"\"\n",
    "    x = np.sort(data)\n",
    "    n = x.size\n",
    "    y = np.arange(1, n+1) / n\n",
    "    return(x,y)\n",
    "\n",
    "desc_len_sorted, samples = ecdf(desc_len)\n",
    "print(np.percentile(desc_len_sorted, 2))\n",
    "print(\"5%:\", np.percentile(desc_len_sorted, 5), \"10%:\", np.percentile(desc_len_sorted, 10), \"25%:\", np.percentile(desc_len_sorted, 25),\"50%:\", np.percentile(desc_len_sorted, 50), \" 75%:\", np.percentile(desc_len_sorted, 75), \" 90%:\", np.percentile(desc_len_sorted, 90), \" 95%:\", np.percentile(desc_len_sorted, 95))"
   ]
  },
  {
   "cell_type": "code",
   "execution_count": 16,
   "metadata": {},
   "outputs": [
    {
     "name": "stdout",
     "output_type": "stream",
     "text": [
      "2%: 10.0\n",
      "percentile of 10:  1.8181422288028568\n",
      "percentile of 128:  97.69738274615686\n"
     ]
    }
   ],
   "source": [
    "print(\"2%:\", np.percentile(desc_len_sorted, 2))\n",
    "\n",
    "from scipy import stats\n",
    "\n",
    "print(\"percentile of 10: \", stats.percentileofscore(desc_len_sorted, 10))\n",
    "print(\"percentile of 128: \", stats.percentileofscore(desc_len_sorted, 128))"
   ]
  },
  {
   "cell_type": "code",
   "execution_count": 17,
   "metadata": {},
   "outputs": [
    {
     "data": {
      "image/png": "[encoded data removed]",
      "text/plain": [
       "<Figure size 1080x720 with 1 Axes>"
      ]
     },
     "metadata": {
      "needs_background": "light"
     },
     "output_type": "display_data"
    }
   ],
   "source": [
    "%matplotlib inline\n",
    "\n",
    "import matplotlib.pyplot as plt\n",
    "\n",
    "plt.figure(figsize=(15, 10))\n",
    "plt.plot(desc_len_sorted[:], samples[:], color='blue')\n",
    "#plt.hlines(0.9, 0, 42, colors='r', linestyles='solid')\n",
    "#plt.vlines(42, 0, 0.9, colors='r', linestyles='solid')\n",
    "plt.axis([0, 150, 0, 1])\n",
    "plt.xlabel('Number of words per description', fontsize=24)\n",
    "plt.ylabel('Fraction of the data', fontsize=24)\n",
    "plt.tick_params(axis='both', which='major', labelsize=24)\n",
    "#plt.savefig('', bbox_inches = 'tight')\n",
    "plt.show()"
   ]
  },
  {
   "cell_type": "code",
   "execution_count": 18,
   "metadata": {},
   "outputs": [
    {
     "name": "stdout",
     "output_type": "stream",
     "text": [
      "<class 'pandas.core.frame.DataFrame'>\n",
      "RangeIndex: 45926 entries, 0 to 45925\n",
      "Data columns (total 22 columns):\n",
      " #   Column                        Non-Null Count  Dtype  \n",
      "---  ------                        --------------  -----  \n",
      " 0   publishedDate                 45926 non-null  object \n",
      " 1   lastModifiedDate              45926 non-null  object \n",
      " 2   CVE_ID                        45926 non-null  object \n",
      " 3   cvssV3_version                45926 non-null  float64\n",
      " 4   cvssV3_vectorString           45926 non-null  object \n",
      " 5   cvssV3_attackVector           45926 non-null  object \n",
      " 6   cvssV3_attackComplexity       45926 non-null  object \n",
      " 7   cvssV3_privilegesRequired     45926 non-null  object \n",
      " 8   cvssV3_userInteraction        45926 non-null  object \n",
      " 9   cvssV3_scope                  45926 non-null  object \n",
      " 10  cvssV3_confidentialityImpact  45926 non-null  object \n",
      " 11  cvssV3_integrityImpact        45926 non-null  object \n",
      " 12  cvssV3_availabilityImpact     45926 non-null  object \n",
      " 13  cvssV3_baseScore              45926 non-null  float64\n",
      " 14  cvssV3_baseSeverity           45926 non-null  object \n",
      " 15  V3_exploitabilityScore        45926 non-null  float64\n",
      " 16  V3_impactScore                45926 non-null  float64\n",
      " 17  nb_CWE                        45926 non-null  int64  \n",
      " 18  CWE1                          45926 non-null  object \n",
      " 19  CWE2                          45926 non-null  object \n",
      " 20  Description                   45926 non-null  object \n",
      " 21  Product                       1075 non-null   object \n",
      "dtypes: float64(4), int64(1), object(17)\n",
      "memory usage: 7.7+ MB\n"
     ]
    }
   ],
   "source": [
    "pd.set_option('display.max_colwidth', None)\n",
    "\n",
    "#discard samples with a \"Description\" field containing less than 10 words\n",
    "\n",
    "#long_enough_description = data.loc[data['Description'].str.split().apply(len) >= 10]\n",
    "#long_enough_description.reset_index(drop=True, inplace=True)\n",
    "#long_enough_description.info()\n",
    "\n",
    "data.info()"
   ]
  },
  {
   "cell_type": "code",
   "execution_count": 19,
   "metadata": {},
   "outputs": [
    {
     "name": "stdout",
     "output_type": "stream",
     "text": [
      "(45926, 2)\n",
      "(45926, 16)\n",
      "(22963, 2)\n",
      "(22963, 2)\n",
      "(22963, 16)\n",
      "(22963, 16)\n"
     ]
    }
   ],
   "source": [
    "from sklearn.model_selection import train_test_split\n",
    "\n",
    "X = data.iloc[:, [2, 20]]\n",
    "y = data.iloc[:, np.arange(4, 20)]\n",
    "print(X.shape)\n",
    "print(y.shape)\n",
    "\n",
    "X_train, X_test, y_train, y_test = train_test_split(X, y, test_size = 0.5, random_state=42, shuffle=True, stratify=y['cvssV3_baseSeverity'])\n",
    "\n",
    "print(X_train.shape)\n",
    "print(X_test.shape)\n",
    "print(y_train.shape)\n",
    "print(y_test.shape)"
   ]
  },
  {
   "cell_type": "code",
   "execution_count": 20,
   "metadata": {},
   "outputs": [
    {
     "name": "stdout",
     "output_type": "stream",
     "text": [
      "HIGH        0.434177\n",
      "MEDIUM      0.401951\n",
      "CRITICAL    0.146627\n",
      "LOW         0.017245\n",
      "Name: cvssV3_baseSeverity, dtype: float64\n",
      "HIGH        0.434133\n",
      "MEDIUM      0.401907\n",
      "CRITICAL    0.146671\n",
      "LOW         0.017289\n",
      "Name: cvssV3_baseSeverity, dtype: float64\n"
     ]
    }
   ],
   "source": [
    "print(y_train['cvssV3_baseSeverity'].value_counts(dropna=False) / y_train.shape[0])\n",
    "print(y_test['cvssV3_baseSeverity'].value_counts(dropna=False) / y_test.shape[0])"
   ]
  },
  {
   "cell_type": "code",
   "execution_count": 21,
   "metadata": {},
   "outputs": [],
   "source": [
    "X_train.to_csv('./data/cve_2018-2020_X_train.csv', index=False)\n",
    "y_train.to_csv('./data/cve_2018-2020_y_train.csv', index=False)\n",
    "\n",
    "X_test.to_csv('./data/cve_2018-2020_X_test.csv', index=False)\n",
    "y_test.to_csv('./data/cve_2018-2020_y_test.csv', index=False)"
   ]
  },
  {
   "cell_type": "code",
   "execution_count": 22,
   "metadata": {},
   "outputs": [
    {
     "name": "stdout",
     "output_type": "stream",
     "text": [
      "(22963, 2)\n",
      "(22963, 2)\n",
      "(22963, 16)\n",
      "(22963, 16)\n",
      "HIGH        0.434177\n",
      "MEDIUM      0.401951\n",
      "CRITICAL    0.146627\n",
      "LOW         0.017245\n",
      "Name: cvssV3_baseSeverity, dtype: float64\n",
      "HIGH        0.434133\n",
      "MEDIUM      0.401907\n",
      "CRITICAL    0.146671\n",
      "LOW         0.017289\n",
      "Name: cvssV3_baseSeverity, dtype: float64\n"
     ]
    }
   ],
   "source": [
    "import pandas as pd\n",
    "\n",
    "X_train = pd.read_csv('./data/cve_2018-2020_X_train.csv')\n",
    "y_train = pd.read_csv('./data/cve_2018-2020_y_train.csv')\n",
    "\n",
    "X_test = pd.read_csv('./data/cve_2018-2020_X_test.csv')\n",
    "y_test = pd.read_csv('./data/cve_2018-2020_y_test.csv')\n",
    "\n",
    "print(X_train.shape)\n",
    "print(X_test.shape)\n",
    "print(y_train.shape)\n",
    "print(y_test.shape)\n",
    "\n",
    "print(y_train['cvssV3_baseSeverity'].value_counts(dropna=False) / y_train.shape[0])\n",
    "print(y_test['cvssV3_baseSeverity'].value_counts(dropna=False) / y_test.shape[0])"
   ]
  },
  {
   "cell_type": "code",
   "execution_count": 23,
   "metadata": {},
   "outputs": [
    {
     "name": "stdout",
     "output_type": "stream",
     "text": [
      "<class 'pandas.core.frame.DataFrame'>\n",
      "RangeIndex: 22963 entries, 0 to 22962\n",
      "Data columns (total 16 columns):\n",
      " #   Column                        Non-Null Count  Dtype  \n",
      "---  ------                        --------------  -----  \n",
      " 0   cvssV3_vectorString           22963 non-null  object \n",
      " 1   cvssV3_attackVector           22963 non-null  object \n",
      " 2   cvssV3_attackComplexity       22963 non-null  object \n",
      " 3   cvssV3_privilegesRequired     22963 non-null  object \n",
      " 4   cvssV3_userInteraction        22963 non-null  object \n",
      " 5   cvssV3_scope                  22963 non-null  object \n",
      " 6   cvssV3_confidentialityImpact  22963 non-null  object \n",
      " 7   cvssV3_integrityImpact        22963 non-null  object \n",
      " 8   cvssV3_availabilityImpact     22963 non-null  object \n",
      " 9   cvssV3_baseScore              22963 non-null  float64\n",
      " 10  cvssV3_baseSeverity           22963 non-null  object \n",
      " 11  V3_exploitabilityScore        22963 non-null  float64\n",
      " 12  V3_impactScore                22963 non-null  float64\n",
      " 13  nb_CWE                        22963 non-null  int64  \n",
      " 14  CWE1                          22963 non-null  object \n",
      " 15  CWE2                          22963 non-null  object \n",
      "dtypes: float64(3), int64(1), object(12)\n",
      "memory usage: 2.8+ MB\n"
     ]
    }
   ],
   "source": [
    "y_train.info()"
   ]
  },
  {
   "cell_type": "code",
   "execution_count": 24,
   "metadata": {},
   "outputs": [
    {
     "name": "stdout",
     "output_type": "stream",
     "text": [
      "----------------- cvssV3_attackVector ------------------------\n",
      "NETWORK             16989\n",
      "LOCAL                5105\n",
      "ADJACENT_NETWORK      566\n",
      "PHYSICAL              303\n",
      "Name: cvssV3_attackVector, dtype: int64\n",
      "NETWORK             17101\n",
      "LOCAL                4988\n",
      "ADJACENT_NETWORK      584\n",
      "PHYSICAL              290\n",
      "Name: cvssV3_attackVector, dtype: int64\n",
      "----------------- cvssV3_attackComplexity ------------------------\n",
      "LOW     21424\n",
      "HIGH     1539\n",
      "Name: cvssV3_attackComplexity, dtype: int64\n",
      "LOW     21483\n",
      "HIGH     1480\n",
      "Name: cvssV3_attackComplexity, dtype: int64\n",
      "----------------- cvssV3_privilegesRequired ------------------------\n",
      "NONE    14729\n",
      "LOW      6493\n",
      "HIGH     1741\n",
      "Name: cvssV3_privilegesRequired, dtype: int64\n",
      "NONE    14695\n",
      "LOW      6487\n",
      "HIGH     1781\n",
      "Name: cvssV3_privilegesRequired, dtype: int64\n",
      "----------------- cvssV3_userInteraction ------------------------\n",
      "NONE        15021\n",
      "REQUIRED     7942\n",
      "Name: cvssV3_userInteraction, dtype: int64\n",
      "NONE        15018\n",
      "REQUIRED     7945\n",
      "Name: cvssV3_userInteraction, dtype: int64\n",
      "----------------- cvssV3_scope ------------------------\n",
      "UNCHANGED    19068\n",
      "CHANGED       3895\n",
      "Name: cvssV3_scope, dtype: int64\n",
      "UNCHANGED    18987\n",
      "CHANGED       3976\n",
      "Name: cvssV3_scope, dtype: int64\n",
      "----------------- cvssV3_confidentialityImpact ------------------------\n",
      "HIGH    13547\n",
      "NONE     4880\n",
      "LOW      4536\n",
      "Name: cvssV3_confidentialityImpact, dtype: int64\n",
      "HIGH    13516\n",
      "NONE     4948\n",
      "LOW      4499\n",
      "Name: cvssV3_confidentialityImpact, dtype: int64\n",
      "----------------- cvssV3_integrityImpact ------------------------\n",
      "HIGH    11727\n",
      "NONE     7179\n",
      "LOW      4057\n",
      "Name: cvssV3_integrityImpact, dtype: int64\n",
      "HIGH    11790\n",
      "NONE     6992\n",
      "LOW      4181\n",
      "Name: cvssV3_integrityImpact, dtype: int64\n",
      "----------------- cvssV3_availabilityImpact ------------------------\n",
      "HIGH    13075\n",
      "NONE     9325\n",
      "LOW       563\n",
      "Name: cvssV3_availabilityImpact, dtype: int64\n",
      "HIGH    13066\n",
      "NONE     9316\n",
      "LOW       581\n",
      "Name: cvssV3_availabilityImpact, dtype: int64\n",
      "----------------- cvssV3_baseScore ------------------------\n",
      "7.5    3053\n",
      "9.8    2912\n",
      "8.8    2583\n",
      "7.8    2582\n",
      "6.5    1777\n",
      "       ... \n",
      "2.0       2\n",
      "1.8       2\n",
      "7.9       1\n",
      "6.9       1\n",
      "3.4       1\n",
      "Name: cvssV3_baseScore, Length: 76, dtype: int64\n",
      "7.5    3020\n",
      "9.8    2940\n",
      "8.8    2667\n",
      "7.8    2455\n",
      "6.5    1817\n",
      "       ... \n",
      "3.6       2\n",
      "3.2       2\n",
      "7.9       2\n",
      "2.6       1\n",
      "2.0       1\n",
      "Name: cvssV3_baseScore, Length: 76, dtype: int64\n",
      "----------------- cvssV3_baseSeverity ------------------------\n",
      "HIGH        9970\n",
      "MEDIUM      9230\n",
      "CRITICAL    3367\n",
      "LOW          396\n",
      "Name: cvssV3_baseSeverity, dtype: int64\n",
      "HIGH        9969\n",
      "MEDIUM      9229\n",
      "CRITICAL    3368\n",
      "LOW          397\n",
      "Name: cvssV3_baseSeverity, dtype: int64\n"
     ]
    }
   ],
   "source": [
    "for col_name in list(y_train.columns.values[1:11]):\n",
    "    print(\"-----------------\", col_name, \"------------------------\")\n",
    "    print( y_train[col_name].value_counts(dropna=False) )\n",
    "    print( y_test[col_name].value_counts(dropna=False) )\n",
    "    \n",
    "#print('cvssV3_baseSeverity')\n",
    "#print( y_train['cvssV3_baseSeverity'].value_counts(dropna=False) )"
   ]
  },
  {
   "cell_type": "code",
   "execution_count": null,
   "metadata": {},
   "outputs": [],
   "source": []
  }
 ],
 "metadata": {
  "kernelspec": {
   "display_name": "Python 3",
   "language": "python",
   "name": "python3"
  },
  "language_info": {
   "codemirror_mode": {
    "name": "ipython",
    "version": 3
   },
   "file_extension": ".py",
   "mimetype": "text/x-python",
   "name": "python",
   "nbconvert_exporter": "python",
   "pygments_lexer": "ipython3",
   "version": "3.8.5"
  }
 },
 "nbformat": 4,
 "nbformat_minor": 4
}
